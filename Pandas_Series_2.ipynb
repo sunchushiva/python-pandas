{
  "nbformat": 4,
  "nbformat_minor": 0,
  "metadata": {
    "colab": {
      "provenance": [],
      "authorship_tag": "ABX9TyOOGhcOTZNm5fYLqmN+xiZZ",
      "include_colab_link": true
    },
    "kernelspec": {
      "name": "python3",
      "display_name": "Python 3"
    },
    "language_info": {
      "name": "python"
    }
  },
  "cells": [
    {
      "cell_type": "markdown",
      "metadata": {
        "id": "view-in-github",
        "colab_type": "text"
      },
      "source": [
        "<a href=\"https://colab.research.google.com/github/sunchushiva/python-pandas/blob/master/Pandas_Series_2.ipynb\" target=\"_parent\"><img src=\"https://colab.research.google.com/assets/colab-badge.svg\" alt=\"Open In Colab\"/></a>"
      ]
    },
    {
      "cell_type": "code",
      "source": [
        "import pandas as pd\n",
        "import numpy as np"
      ],
      "metadata": {
        "id": "x0ESyuoKG-z_"
      },
      "execution_count": 1,
      "outputs": []
    },
    {
      "cell_type": "code",
      "execution_count": 2,
      "metadata": {
        "colab": {
          "base_uri": "https://localhost:8080/"
        },
        "id": "UJwltxMNGlnN",
        "outputId": "2643b90c-6a24-4e91-a391-818805215150"
      },
      "outputs": [
        {
          "output_type": "stream",
          "name": "stdout",
          "text": [
            "a    1\n",
            "b    2\n",
            "c    3\n",
            "d    4\n",
            "e    5\n",
            "dtype: int64 \n",
            "\n",
            "\n",
            "15 <class 'numpy.int64'> \n",
            "\n",
            "3.0 <class 'numpy.float64'> \n",
            "\n",
            "1 <class 'int'> \n",
            "\n",
            "5 <class 'int'> \n",
            "\n"
          ]
        }
      ],
      "source": [
        "# Aggregation Functions: sum(), mean(), min(), and max()\n",
        "\n",
        "seriesOne = pd.Series(data=[1, 2, 3, 4, 5], index=list(\"abcde\"))\n",
        "\n",
        "print(seriesOne, \"\\n\\n\")\n",
        "print(seriesOne.sum(), type(seriesOne.sum()), \"\\n\")\n",
        "print(seriesOne.mean(), type(seriesOne.mean()), \"\\n\")\n",
        "print(seriesOne.min(), type(seriesOne.min()), \"\\n\")\n",
        "print(seriesOne.max(), type(seriesOne.max()), \"\\n\")\n"
      ]
    },
    {
      "cell_type": "code",
      "source": [
        "# Filtering\n",
        "\n",
        "seriesTwo = pd.Series([23, 54, 69, 86, 900, 8, 2000])\n",
        "\n",
        "print(seriesTwo[seriesTwo > 50], \"\\n\")\n",
        "print(seriesTwo[seriesTwo == 2000], \"\\n\")\n",
        "print(seriesTwo[seriesTwo < 20], \"\\n\")\n",
        "print(seriesTwo[(seriesTwo > 40) & (seriesTwo < 100)], \"\\n\")"
      ],
      "metadata": {
        "colab": {
          "base_uri": "https://localhost:8080/"
        },
        "id": "KhSzR01XInPI",
        "outputId": "63d2097b-34ad-4c3e-d552-6144c8f05fc1"
      },
      "execution_count": 3,
      "outputs": [
        {
          "output_type": "stream",
          "name": "stdout",
          "text": [
            "1      54\n",
            "2      69\n",
            "3      86\n",
            "4     900\n",
            "6    2000\n",
            "dtype: int64 \n",
            "\n",
            "6    2000\n",
            "dtype: int64 \n",
            "\n",
            "5    8\n",
            "dtype: int64 \n",
            "\n",
            "1    54\n",
            "2    69\n",
            "3    86\n",
            "dtype: int64 \n",
            "\n"
          ]
        }
      ]
    },
    {
      "cell_type": "code",
      "source": [
        "# Handling Missing Data: fillna(), dropna(),\n",
        "# These methods return new Series dict but does not change the original one, unless inplace keyword argument is explicitly set to True\n",
        "\n",
        "seriesThree = pd.Series([1, 2, np.nan, 4, 5])\n",
        "\n",
        "print(seriesThree.hasnans, \"\\n\")\n",
        "print(seriesThree.fillna(0), \"\\n\")\n",
        "print(seriesThree, \"\\n\")\n",
        "print(seriesThree.fillna(0, inplace=True), \"\\n\")\n",
        "print(seriesThree, \"\\n\")"
      ],
      "metadata": {
        "colab": {
          "base_uri": "https://localhost:8080/"
        },
        "collapsed": true,
        "id": "Ll42sPvRKxNo",
        "outputId": "372b4aa0-24f3-431e-fbb2-df84b347e074"
      },
      "execution_count": 4,
      "outputs": [
        {
          "output_type": "stream",
          "name": "stdout",
          "text": [
            "True \n",
            "\n",
            "0    1.0\n",
            "1    2.0\n",
            "2    0.0\n",
            "3    4.0\n",
            "4    5.0\n",
            "dtype: float64 \n",
            "\n",
            "0    1.0\n",
            "1    2.0\n",
            "2    NaN\n",
            "3    4.0\n",
            "4    5.0\n",
            "dtype: float64 \n",
            "\n",
            "None \n",
            "\n",
            "0    1.0\n",
            "1    2.0\n",
            "2    0.0\n",
            "3    4.0\n",
            "4    5.0\n",
            "dtype: float64 \n",
            "\n"
          ]
        }
      ]
    },
    {
      "cell_type": "code",
      "source": [
        "seriesFour = pd.Series(np.nan, index=[1, 2, 3, 4, 5])\n",
        "\n",
        "print(seriesFour.hasnans, \"\\n\")\n",
        "print(seriesFour.dropna(), \"\\n\")\n",
        "print(seriesFour, \"\\n\")\n",
        "print(seriesFour.dropna(inplace=True), \"\\n\")\n",
        "print(seriesFour, \"\\n\")"
      ],
      "metadata": {
        "colab": {
          "base_uri": "https://localhost:8080/"
        },
        "id": "vyw3K4lvNfLW",
        "outputId": "a06207e5-b581-4057-ca70-c239620e0cf5"
      },
      "execution_count": 5,
      "outputs": [
        {
          "output_type": "stream",
          "name": "stdout",
          "text": [
            "True \n",
            "\n",
            "Series([], dtype: float64) \n",
            "\n",
            "1   NaN\n",
            "2   NaN\n",
            "3   NaN\n",
            "4   NaN\n",
            "5   NaN\n",
            "dtype: float64 \n",
            "\n",
            "None \n",
            "\n",
            "Series([], dtype: float64) \n",
            "\n"
          ]
        }
      ]
    },
    {
      "cell_type": "code",
      "source": [
        "print(seriesFour.size, \"\\n\")\n",
        "print(seriesFour.index, \"\\n\")\n",
        "print(seriesFour.values, \"\\n\")"
      ],
      "metadata": {
        "colab": {
          "base_uri": "https://localhost:8080/"
        },
        "id": "NTBgRR5-OZ_r",
        "outputId": "065a43ab-d1cb-4580-8c8d-ce6c130007b1"
      },
      "execution_count": 6,
      "outputs": [
        {
          "output_type": "stream",
          "name": "stdout",
          "text": [
            "0 \n",
            "\n",
            "Index([], dtype='int64') \n",
            "\n",
            "[] \n",
            "\n"
          ]
        }
      ]
    }
  ]
}