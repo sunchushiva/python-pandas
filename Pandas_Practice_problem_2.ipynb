{
  "cells": [
    {
      "cell_type": "markdown",
      "metadata": {
        "id": "view-in-github",
        "colab_type": "text"
      },
      "source": [
        "<a href=\"https://colab.research.google.com/github/sunchushiva/python-pandas/blob/master/Pandas_Practice_problem_2.ipynb\" target=\"_parent\"><img src=\"https://colab.research.google.com/assets/colab-badge.svg\" alt=\"Open In Colab\"/></a>"
      ]
    },
    {
      "cell_type": "code",
      "execution_count": 17,
      "metadata": {
        "colab": {
          "base_uri": "https://localhost:8080/"
        },
        "id": "8ofsY9_-fLmO",
        "outputId": "6bb599e4-073b-457e-8236-66a42dfcf454"
      },
      "outputs": [
        {
          "output_type": "stream",
          "name": "stdout",
          "text": [
            "Laptop        150\n",
            "Tablet        200\n",
            "Smartphone    350\n",
            "Headphones    120\n",
            "Monitor       400\n",
            "Keyboard      500\n",
            "Name: Sales, dtype: int64 \n",
            "\n",
            "January     10\n",
            "February    15\n",
            "March       22\n",
            "April       25\n",
            "May         30\n",
            "June        35\n",
            "Name: Temperature, dtype: int64 \n",
            "\n"
          ]
        }
      ],
      "source": [
        "import pandas as pd\n",
        "import numpy as np\n",
        "\n",
        "sales = pd.Series(\n",
        "    [150, 200, 350, 120, 400, 500],\n",
        "    index=[\"Laptop\", \"Tablet\", \"Smartphone\", \"Headphones\", \"Monitor\", \"Keyboard\"],\n",
        "    name=\"Sales\"\n",
        ")\n",
        "\n",
        "temperature = pd.Series(\n",
        "    [10, 15, 22, 25, 30, 35],\n",
        "    index=[\"January\", \"February\", \"March\", \"April\", \"May\", \"June\"],\n",
        "    name=\"Temperature\"\n",
        ")\n",
        "\n",
        "print(sales, \"\\n\")\n",
        "print(temperature)"
      ]
    },
    {
      "cell_type": "markdown",
      "metadata": {
        "id": "ZpG_Ja2UfWF1"
      },
      "source": [
        "# Practice Problems - EASY\n",
        "\n",
        "## Basic Series Operations:\n",
        "- Retrieve the sales figure for \"Tablet\".\n",
        "- Get the index of the temperature Series.\n",
        "- Extract the first 3 values from the sales Series.\n",
        "\n",
        "\n",
        "## Conditional Filtering:\n",
        "- Find products with sales greater than 300.\n",
        "- Identify months where the temperature exceeds 20°C.\n",
        "\n",
        "\n",
        "## Statistical Summary:\n",
        "- Compute the sum of all sales.\n",
        "- Calculate the mean temperature from the temperature Series.\n",
        "\n",
        "\n",
        "## Handling Missing Values:\n",
        "- Add a missing value (None) for \"April\" in the temperature Series.\n",
        "- Replace the missing value with the average temperature."
      ]
    },
    {
      "cell_type": "code",
      "source": [
        "# Basic Series Operations:\n",
        "\n",
        "\n",
        "# Retrieve the sales figure for \"Tablet\".\n",
        "tablet_sales = sales.loc[\"Tablet\"]\n",
        "print(tablet_sales, \"\\n\")\n",
        "\n",
        "# Get the index of the temperature Series.\n",
        "temperature_index = temperature.index\n",
        "print(temperature_index, \"\\n\")\n",
        "\n",
        "# Extract the first 3 values from the sales Series.\n",
        "first_three = sales.head(3)\n",
        "print(first_three)"
      ],
      "metadata": {
        "colab": {
          "base_uri": "https://localhost:8080/"
        },
        "id": "NLUQ4YwCg_Ar",
        "outputId": "e068eaf3-0a3e-487e-dc85-3da558d6b964"
      },
      "execution_count": 18,
      "outputs": [
        {
          "output_type": "stream",
          "name": "stdout",
          "text": [
            "200 \n",
            "\n",
            "Index(['January', 'February', 'March', 'April', 'May', 'June'], dtype='object') \n",
            "\n",
            "Laptop        150\n",
            "Tablet        200\n",
            "Smartphone    350\n",
            "Name: Sales, dtype: int64\n"
          ]
        }
      ]
    },
    {
      "cell_type": "code",
      "source": [
        "# Conditional Filtering:\n",
        "\n",
        "\n",
        "# Find products with sales greater than 300.\n",
        "condition_one = sales[sales > 300]\n",
        "print(condition_one, \"\\n\")\n",
        "\n",
        "# Identify months where the temperature exceeds 20°C.\n",
        "condition_two = temperature[temperature > 20]\n",
        "print(condition_two)"
      ],
      "metadata": {
        "colab": {
          "base_uri": "https://localhost:8080/"
        },
        "id": "z2kg8zdPho4f",
        "outputId": "a4f42acd-1d15-4d23-da30-c85bc6198225"
      },
      "execution_count": 19,
      "outputs": [
        {
          "output_type": "stream",
          "name": "stdout",
          "text": [
            "Smartphone    350\n",
            "Monitor       400\n",
            "Keyboard      500\n",
            "Name: Sales, dtype: int64 \n",
            "\n",
            "March    22\n",
            "April    25\n",
            "May      30\n",
            "June     35\n",
            "Name: Temperature, dtype: int64\n"
          ]
        }
      ]
    },
    {
      "cell_type": "code",
      "source": [
        "# Statistical Summary:\n",
        "\n",
        "\n",
        "# Compute the sum of all sales.\n",
        "sales_sum = sales.sum()\n",
        "print(sales_sum, \"\\n\")\n",
        "\n",
        "# Calculate the mean temperature from the temperature Series.\n",
        "temperature_mean = round(temperature.mean(), 2)\n",
        "print(temperature_mean)"
      ],
      "metadata": {
        "colab": {
          "base_uri": "https://localhost:8080/"
        },
        "id": "J4WDX9XqiQpO",
        "outputId": "6b39297b-a3aa-46b2-c471-87c81552b47f"
      },
      "execution_count": 20,
      "outputs": [
        {
          "output_type": "stream",
          "name": "stdout",
          "text": [
            "1720 \n",
            "\n",
            "22.83\n"
          ]
        }
      ]
    },
    {
      "cell_type": "code",
      "source": [
        "# Handling Missing Values:\n",
        "\n",
        "\n",
        "# Add a missing value (None) for \"April\" in the temperature Series.\n",
        "temperature[\"April\"] = None\n",
        "print(temperature, \"\\n\")\n",
        "\n",
        "# Replace the missing value with the average temperature.\n",
        "temperature = temperature.fillna(temperature_mean)\n",
        "print(temperature)"
      ],
      "metadata": {
        "colab": {
          "base_uri": "https://localhost:8080/"
        },
        "id": "O5sLHzwDjIgm",
        "outputId": "d5381de5-72ba-49b1-baa9-781342a0f147"
      },
      "execution_count": 21,
      "outputs": [
        {
          "output_type": "stream",
          "name": "stdout",
          "text": [
            "January     10.0\n",
            "February    15.0\n",
            "March       22.0\n",
            "April        NaN\n",
            "May         30.0\n",
            "June        35.0\n",
            "Name: Temperature, dtype: float64 \n",
            "\n",
            "January     10.00\n",
            "February    15.00\n",
            "March       22.00\n",
            "April       22.83\n",
            "May         30.00\n",
            "June        35.00\n",
            "Name: Temperature, dtype: float64\n"
          ]
        }
      ]
    },
    {
      "cell_type": "markdown",
      "source": [
        "# Practice Problems - MEDIUM\n",
        "\n",
        "## Sorting:\n",
        "- Sort the sales Series by values in descending order.\n",
        "- Sort the temperature Series alphabetically by the month names.\n",
        "\n",
        "## Arithmetic Operations:\n",
        "- Increase all sales figures by 10%.\n",
        "- Convert temperature from Celsius to Fahrenheit using the formula:\n",
        "f = (c * 1.8) + 32\n",
        "\n",
        "## Custom Transformation:\n",
        "- Write a function to categorize sales as:\n",
        "  - Low: Sales < 200\n",
        "  - Medium: 200 ≤ Sales < 400\n",
        "  - High: Sales ≥ 400\n",
        "\n",
        "  Apply this function to the sales Series.\n",
        "\n",
        "## Handling Missing Data:\n",
        "- Introduce a missing value in the sales Series for \"Monitor\".\n",
        "- Fill it with the median sales value.\n",
        "\n",
        "## Boolean Indexing:\n",
        "- Filter and list the months where temperature is in the range 15°C to 30°C."
      ],
      "metadata": {
        "id": "C1zVgnH6jz30"
      }
    },
    {
      "cell_type": "code",
      "source": [
        "# Sorting:\n",
        "\n",
        "\n",
        "# Sort the sales Series by values in descending order.\n",
        "sales_sorted = sales.sort_values(ascending=False)\n",
        "print(sales_sorted, \"\\n\")\n",
        "\n",
        "# Sort the temperature Series alphabetically by the month names.\n",
        "temperature_sorted = temperature.sort_index()\n",
        "print(temperature_sorted)"
      ],
      "metadata": {
        "colab": {
          "base_uri": "https://localhost:8080/"
        },
        "id": "VT2m9QYHkiLy",
        "outputId": "6e8471cb-a77f-4598-bba0-e64fdd0c42da"
      },
      "execution_count": 22,
      "outputs": [
        {
          "output_type": "stream",
          "name": "stdout",
          "text": [
            "Keyboard      500\n",
            "Monitor       400\n",
            "Smartphone    350\n",
            "Tablet        200\n",
            "Laptop        150\n",
            "Headphones    120\n",
            "Name: Sales, dtype: int64 \n",
            "\n",
            "April       22.83\n",
            "February    15.00\n",
            "January     10.00\n",
            "June        35.00\n",
            "March       22.00\n",
            "May         30.00\n",
            "Name: Temperature, dtype: float64\n"
          ]
        }
      ]
    },
    {
      "cell_type": "code",
      "source": [
        "# Arithmetic Operations:\n",
        "\n",
        "\n",
        "# Increase all sales figures by 10%.\n",
        "sales = sales.apply(lambda x: x * 1.10)\n",
        "print(sales, \"\\n\")\n",
        "\n",
        "# Convert temperature from Celsius to Fahrenheit using the formula: f = (c * 1.8) + 32\n",
        "def celToFah(celsius):\n",
        "  calculation = (celsius * 1.8) + 32\n",
        "  return round(calculation, 2)\n",
        "\n",
        "temperature = temperature.apply(celToFah)\n",
        "print(temperature)"
      ],
      "metadata": {
        "colab": {
          "base_uri": "https://localhost:8080/"
        },
        "id": "Brx1VDjxlGzc",
        "outputId": "3fb0a7e3-1551-43b6-fc12-a18b03964415"
      },
      "execution_count": 23,
      "outputs": [
        {
          "output_type": "stream",
          "name": "stdout",
          "text": [
            "Laptop        165.0\n",
            "Tablet        220.0\n",
            "Smartphone    385.0\n",
            "Headphones    132.0\n",
            "Monitor       440.0\n",
            "Keyboard      550.0\n",
            "Name: Sales, dtype: float64 \n",
            "\n",
            "January     50.00\n",
            "February    59.00\n",
            "March       71.60\n",
            "April       73.09\n",
            "May         86.00\n",
            "June        95.00\n",
            "Name: Temperature, dtype: float64\n"
          ]
        }
      ]
    },
    {
      "cell_type": "code",
      "source": [
        "# Custom Transformation:\n",
        "\n",
        "\n",
        "# Write a function to categorize sales as:\n",
        "# Low: Sales < 200\n",
        "# Medium: 200 ≤ Sales < 400\n",
        "# High: Sales ≥ 400\n",
        "# Apply this function to the sales Series.\n",
        "\n",
        "categorised_sales = sales.sort_values(ascending=False)\n",
        "\n",
        "def label(sale):\n",
        "  if(sale >= 400):\n",
        "    return \"High\"\n",
        "  elif(200 <= sale < 400):\n",
        "    return \"Medium\"\n",
        "  elif(sale < 200):\n",
        "    return \"Low\"\n",
        "\n",
        "categorised_sales = categorised_sales.apply(label)\n",
        "print(categorised_sales, \"\\n\")\n",
        "print(sales)"
      ],
      "metadata": {
        "colab": {
          "base_uri": "https://localhost:8080/"
        },
        "id": "IFJSJDq2oMMu",
        "outputId": "0f0a2797-b968-4931-dde3-ff92aa481493"
      },
      "execution_count": 24,
      "outputs": [
        {
          "output_type": "stream",
          "name": "stdout",
          "text": [
            "Keyboard        High\n",
            "Monitor         High\n",
            "Smartphone    Medium\n",
            "Tablet        Medium\n",
            "Laptop           Low\n",
            "Headphones       Low\n",
            "Name: Sales, dtype: object \n",
            "\n",
            "Laptop        165.0\n",
            "Tablet        220.0\n",
            "Smartphone    385.0\n",
            "Headphones    132.0\n",
            "Monitor       440.0\n",
            "Keyboard      550.0\n",
            "Name: Sales, dtype: float64\n"
          ]
        }
      ]
    },
    {
      "cell_type": "code",
      "source": [
        "# Handling Missing Data:\n",
        "\n",
        "\n",
        "# Introduce a missing value in the sales Series for \"Monitor\".\n",
        "sales[\"Monitor\"] = None\n",
        "print(sales, \"\\n\")\n",
        "\n",
        "# Fill it with the median sales value.\n",
        "sales_mean = round(sales.mean(), 2)\n",
        "sales = sales.fillna(sales_mean)\n",
        "print(sales, \"\\n\")"
      ],
      "metadata": {
        "colab": {
          "base_uri": "https://localhost:8080/"
        },
        "id": "Yu4KS9UqoTZQ",
        "outputId": "767c8a9b-8afa-4aa1-9a0f-781c78bd8f77"
      },
      "execution_count": 25,
      "outputs": [
        {
          "output_type": "stream",
          "name": "stdout",
          "text": [
            "Laptop        165.0\n",
            "Tablet        220.0\n",
            "Smartphone    385.0\n",
            "Headphones    132.0\n",
            "Monitor         NaN\n",
            "Keyboard      550.0\n",
            "Name: Sales, dtype: float64 \n",
            "\n",
            "Laptop        165.0\n",
            "Tablet        220.0\n",
            "Smartphone    385.0\n",
            "Headphones    132.0\n",
            "Monitor       290.4\n",
            "Keyboard      550.0\n",
            "Name: Sales, dtype: float64 \n",
            "\n"
          ]
        }
      ]
    },
    {
      "cell_type": "code",
      "source": [
        "# Boolean Indexing:\n",
        "\n",
        "# Filter and list the months where temperature is in the range 15°C to 30°C.\n",
        "print(temperature, \"\\n\")\n",
        "filtered_months = temperature[(temperature >= 15) & (temperature <= 30)]\n",
        "print(filtered_months)"
      ],
      "metadata": {
        "colab": {
          "base_uri": "https://localhost:8080/"
        },
        "id": "dxhlCns8ouTR",
        "outputId": "b75c5ae4-3ba3-4bd6-dd6b-3ebfce7653e9"
      },
      "execution_count": 26,
      "outputs": [
        {
          "output_type": "stream",
          "name": "stdout",
          "text": [
            "January     50.00\n",
            "February    59.00\n",
            "March       71.60\n",
            "April       73.09\n",
            "May         86.00\n",
            "June        95.00\n",
            "Name: Temperature, dtype: float64 \n",
            "\n",
            "Series([], Name: Temperature, dtype: float64)\n"
          ]
        }
      ]
    },
    {
      "cell_type": "markdown",
      "source": [
        "# Practice Problems - HARD\n",
        "\n",
        "## Group Analysis:\n",
        "- Create a new Series with product categories:\n",
        "  - Electronics: Laptop, Tablet, Smartphone\n",
        "  - Accessories: Headphones, Monitor, Keyboard\n",
        "- Group the sales figures by these categories and compute the total sales for each group.\n",
        "\n",
        "## Rolling Window Analysis:\n",
        "- Compute a 3-month rolling average for the temperature Series.\n",
        "\n",
        "## Apply Multi-Series Operations:\n",
        "- Assume there's another Series representing monthly rainfall:\n",
        "```\n",
        "rainfall = pd.Series(\n",
        "    [50, 40, 30, 20, 10, 5],\n",
        "    index=[\"January\", \"February\", \"March\", \"April\", \"May\", \"June\"],\n",
        "    name=\"Rainfall\"\n",
        ")\n",
        "```\n",
        "- Multiply temperature and rainfall element-wise to compute a \"heat index.\"\n",
        "- Find the month with the highest heat index.\n",
        "\n",
        "## Chaining Operations:\n",
        "- Perform the following on the sales Series in a single operation:\n",
        "- Filter products with sales > 200.\n",
        "- Sort the filtered Series by values in ascending order.\n",
        "- Replace sales > 400 with \"Bestseller\".\n",
        "\n",
        "## Resampling and Aggregation:\n",
        "- Assume the temperature Series is extended to daily temperatures for 6 months.\n",
        "- Use .resample() to compute the average monthly temperature.\n",
        "\n",
        "## Multi-Index Series:\n",
        "- Create a Series with a multi-level index where:\n",
        "  - The first level is the product category (Electronics, Accessories).\n",
        "  - The second level is the product name.\n",
        "  - Assign sales values to this Series and compute:\n",
        "    - Total sales for each category.\n",
        "    - Percentage contribution of each product to its category."
      ],
      "metadata": {
        "id": "mJQumcOSq9EK"
      }
    },
    {
      "cell_type": "code",
      "source": [
        "# Group Analysis:\n",
        "\n",
        "\n",
        "# Create a new Series with product categories:\n",
        "# Electronics: Laptop, Tablet, Smartphone\n",
        "# Accessories: Headphones, Monitor, Keyboard\n",
        "\n",
        "sales_data = {\n",
        "    \"Laptop\": 150,\n",
        "    \"Tablet\": 200,\n",
        "    \"Smartphone\": 350,\n",
        "    \"Headphones\": 120,\n",
        "    \"Monitor\": 400,\n",
        "    \"Keyboard\": 500,\n",
        "}\n",
        "\n",
        "new_sales = pd.Series(sales_data, name=\"Sales\")\n",
        "\n",
        "categories = {\n",
        "    \"Laptop\": \"Electronics\",\n",
        "    \"Tablet\": \"Electronics\",\n",
        "    \"Smartphone\": \"Electronics\",\n",
        "    \"Headphones\": \"Accessories\",\n",
        "    \"Monitor\": \"Accessories\",\n",
        "    \"Keyboard\": \"Accessories\",\n",
        "}\n",
        "\n",
        "product_categories = pd.Series(categories, name=\"Category\")\n",
        "\n",
        "# Group the sales figures by these categories and compute the total sales for each group.\n",
        "\n",
        "category_sales = {}\n",
        "\n",
        "product_sales = new_sales.index\n",
        "\n",
        "for product in product_sales:\n",
        "  key = product_categories[product]\n",
        "\n",
        "  if key in category_sales:\n",
        "    category_sales[key] = category_sales[key] + new_sales.loc[product]\n",
        "  else:\n",
        "    category_sales[key] = new_sales.loc[product]\n",
        "\n",
        "\n",
        "category_sales_series = pd.Series(category_sales, name=\"Sales by category\")\n",
        "print(category_sales_series)"
      ],
      "metadata": {
        "colab": {
          "base_uri": "https://localhost:8080/"
        },
        "id": "INmA2hA2uEJz",
        "outputId": "a7f6bc94-5852-4e01-c217-fadf293bce10"
      },
      "execution_count": 27,
      "outputs": [
        {
          "output_type": "stream",
          "name": "stdout",
          "text": [
            "Electronics     700\n",
            "Accessories    1020\n",
            "Name: Sales by category, dtype: int64\n"
          ]
        }
      ]
    },
    {
      "cell_type": "code",
      "source": [
        "# Rolling Window Analysis:\n",
        "\n",
        "\n",
        "# Compute a 3-month rolling average for the temperature Series.\n",
        "print(temperature, \"\\n\")\n",
        "three_month_rolling = temperature.rolling(window=3).mean().round(2)\n",
        "\n",
        "print(three_month_rolling)"
      ],
      "metadata": {
        "colab": {
          "base_uri": "https://localhost:8080/"
        },
        "id": "oWvOx1SD8nhC",
        "outputId": "94cb28ee-fb65-413a-9308-05590a00b5cf"
      },
      "execution_count": 28,
      "outputs": [
        {
          "output_type": "stream",
          "name": "stdout",
          "text": [
            "January     50.00\n",
            "February    59.00\n",
            "March       71.60\n",
            "April       73.09\n",
            "May         86.00\n",
            "June        95.00\n",
            "Name: Temperature, dtype: float64 \n",
            "\n",
            "January      NaN\n",
            "February     NaN\n",
            "March       60.2\n",
            "April       67.9\n",
            "May         76.9\n",
            "June        84.7\n",
            "Name: Temperature, dtype: float64\n"
          ]
        }
      ]
    },
    {
      "cell_type": "code",
      "source": [
        "# Apply Multi-Series Operations:\n",
        "\n",
        "\n",
        "# Assume there's another Series representing monthly rainfall:\n",
        "rainfall = pd.Series(\n",
        "  [50, 40, 30, 20, 10, 5],\n",
        "  index=[\"January\", \"February\", \"March\", \"April\", \"May\", \"June\"],\n",
        "  name=\"Rainfall\"\n",
        ")\n",
        "\n",
        "# Multiply temperature and rainfall element-wise to compute a \"heat index.\"\n",
        "heat_index_dict = {}\n",
        "\n",
        "for month in rainfall.index:\n",
        "  calculation = temperature[month] * rainfall[month]\n",
        "  heat_index_dict[month] = round(calculation, 2)\n",
        "\n",
        "heat_index_series = pd.Series(heat_index_dict, name=\"Heat index\")\n",
        "print(heat_index_series, \"\\n\")\n",
        "\n",
        "# Find the month with the highest heat index.\n",
        "highest_heat_index = heat_index_series.idxmax()\n",
        "print(highest_heat_index)"
      ],
      "metadata": {
        "colab": {
          "base_uri": "https://localhost:8080/"
        },
        "id": "duGnoCfg2mBa",
        "outputId": "02fc5741-47d4-4c4f-b7c3-56031546dba3"
      },
      "execution_count": 29,
      "outputs": [
        {
          "output_type": "stream",
          "name": "stdout",
          "text": [
            "January     2500.0\n",
            "February    2360.0\n",
            "March       2148.0\n",
            "April       1461.8\n",
            "May          860.0\n",
            "June         475.0\n",
            "Name: Heat index, dtype: float64 \n",
            "\n",
            "January\n"
          ]
        }
      ]
    },
    {
      "cell_type": "code",
      "source": [
        "# Chaining Operations:\n",
        "\n",
        "\n",
        "# Perform the following on the sales Series in a single operation:\n",
        "# Filter products with sales > 200.\n",
        "# Sort the filtered Series by values in ascending order.\n",
        "# Replace sales > 400 with \"Bestseller\".\n",
        "\n",
        "print(sales, \"\\n\")\n",
        "filtered_sales = sales[sales > 200]\n",
        "filtered_sales = filtered_sales.sort_values()\n",
        "filtered_sales = filtered_sales.mask(filtered_sales > 400, \"Bestseller\")\n",
        "\n",
        "print(filtered_sales)\n"
      ],
      "metadata": {
        "colab": {
          "base_uri": "https://localhost:8080/"
        },
        "id": "vynou9J64Ar7",
        "outputId": "c3167b19-ee3c-4c1e-c160-d812f22bf685"
      },
      "execution_count": 30,
      "outputs": [
        {
          "output_type": "stream",
          "name": "stdout",
          "text": [
            "Laptop        165.0\n",
            "Tablet        220.0\n",
            "Smartphone    385.0\n",
            "Headphones    132.0\n",
            "Monitor       290.4\n",
            "Keyboard      550.0\n",
            "Name: Sales, dtype: float64 \n",
            "\n",
            "Tablet             220.0\n",
            "Monitor            290.4\n",
            "Smartphone         385.0\n",
            "Keyboard      Bestseller\n",
            "Name: Sales, dtype: object\n"
          ]
        }
      ]
    },
    {
      "cell_type": "code",
      "source": [
        "# Resampling and Aggregation:\n",
        "\n",
        "\n",
        "# Assume the temperature Series is extended to daily temperatures for 6 months.\n",
        "date_index = pd.date_range(start=\"2024-01-01\", end=\"2024-06-30\", freq=\"D\")\n",
        "data_temperature = np.random.randint(5, 35, size=len(date_index))\n",
        "\n",
        "daily_temperatures = pd.Series(\n",
        "    data=data_temperature,\n",
        "    index=date_index,\n",
        "    name=\"Daily Temperature\"\n",
        ")\n",
        "\n",
        "# Use .resample() to compute the average monthly temperature.\n",
        "avg_monthly_temp = daily_temperatures.resample(\"ME\").mean().round(2)\n",
        "print(avg_monthly_temp)"
      ],
      "metadata": {
        "colab": {
          "base_uri": "https://localhost:8080/"
        },
        "id": "iDjJRF8S9-vi",
        "outputId": "383feca4-239b-405e-c736-c6cab46a2539"
      },
      "execution_count": 31,
      "outputs": [
        {
          "output_type": "stream",
          "name": "stdout",
          "text": [
            "2024-01-31    21.29\n",
            "2024-02-29    16.69\n",
            "2024-03-31    20.06\n",
            "2024-04-30    18.10\n",
            "2024-05-31    18.29\n",
            "2024-06-30    19.90\n",
            "Freq: ME, Name: Daily Temperature, dtype: float64\n"
          ]
        }
      ]
    },
    {
      "cell_type": "code",
      "source": [
        "# Multi-Index Series:\n",
        "\n",
        "\n",
        "# Create a Series with a multi-level index where:\n",
        "# The first level is the product category (Electronics, Accessories).\n",
        "# The second level is the product name.\n",
        "\n",
        "categories_array = []\n",
        "products_array = []\n",
        "\n",
        "for product in product_categories.index:\n",
        "  products_array.append(product)\n",
        "  categories_array.append(product_categories[product])\n",
        "\n",
        "multi_index = pd.MultiIndex.from_arrays([categories_array, products_array], names=[\"category\", \"product\"])\n",
        "\n",
        "# Assign sales values to this Series and compute:\n",
        "series = pd.Series(new_sales.values, index=multi_index)\n",
        "print(series, \"\\n\")\n",
        "\n",
        "# Total sales for each category.\n",
        "category_group = series.groupby(by=\"category\").sum()\n",
        "print(category_group, \"\\n\")\n",
        "\n",
        "# Percentage contribution of each product to its category.\n",
        "# percentage contribution = (total sales in category / product sales) * 100\n",
        "percent_contribution = (\n",
        "    series / series.groupby(by=\"category\").transform(\"sum\")).round(2) * 100\n",
        "\n",
        "print(percent_contribution)"
      ],
      "metadata": {
        "colab": {
          "base_uri": "https://localhost:8080/"
        },
        "id": "qSh-I6N-y_J5",
        "outputId": "d8324ed2-a3e6-462e-e932-33bd1cad08cc"
      },
      "execution_count": 32,
      "outputs": [
        {
          "output_type": "stream",
          "name": "stdout",
          "text": [
            "category     product   \n",
            "Electronics  Laptop        150\n",
            "             Tablet        200\n",
            "             Smartphone    350\n",
            "Accessories  Headphones    120\n",
            "             Monitor       400\n",
            "             Keyboard      500\n",
            "dtype: int64 \n",
            "\n",
            "category\n",
            "Accessories    1020\n",
            "Electronics     700\n",
            "dtype: int64 \n",
            "\n",
            "category     product   \n",
            "Electronics  Laptop        21.0\n",
            "             Tablet        29.0\n",
            "             Smartphone    50.0\n",
            "Accessories  Headphones    12.0\n",
            "             Monitor       39.0\n",
            "             Keyboard      49.0\n",
            "dtype: float64\n"
          ]
        }
      ]
    }
  ],
  "metadata": {
    "colab": {
      "provenance": [],
      "authorship_tag": "ABX9TyMvChxRd2rujydx1NBqcfGo",
      "include_colab_link": true
    },
    "kernelspec": {
      "display_name": "Python 3",
      "name": "python3"
    },
    "language_info": {
      "name": "python"
    }
  },
  "nbformat": 4,
  "nbformat_minor": 0
}