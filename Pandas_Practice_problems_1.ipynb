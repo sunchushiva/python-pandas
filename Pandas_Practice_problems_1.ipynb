{
  "nbformat": 4,
  "nbformat_minor": 0,
  "metadata": {
    "colab": {
      "provenance": [],
      "authorship_tag": "ABX9TyOg8vgckGpenILOeofaQWuN",
      "include_colab_link": true
    },
    "kernelspec": {
      "name": "python3",
      "display_name": "Python 3"
    },
    "language_info": {
      "name": "python"
    }
  },
  "cells": [
    {
      "cell_type": "markdown",
      "metadata": {
        "id": "view-in-github",
        "colab_type": "text"
      },
      "source": [
        "<a href=\"https://colab.research.google.com/github/sunchushiva/python-pandas/blob/master/Pandas_Practice_problems_1.ipynb\" target=\"_parent\"><img src=\"https://colab.research.google.com/assets/colab-badge.svg\" alt=\"Open In Colab\"/></a>"
      ]
    },
    {
      "cell_type": "code",
      "execution_count": 1,
      "metadata": {
        "colab": {
          "base_uri": "https://localhost:8080/"
        },
        "id": "H-6czzbGVRVi",
        "outputId": "367c2e71-7bab-4a45-aed3-5ecdb38e9758"
      },
      "outputs": [
        {
          "output_type": "stream",
          "name": "stdout",
          "text": [
            "0        Delhi\n",
            "1       Mumbai\n",
            "2    Bangalore\n",
            "3      Kolkata\n",
            "4      Chennai\n",
            "Name: City, dtype: object \n",
            "\n",
            "Delhi        25\n",
            "Mumbai       30\n",
            "Bangalore    22\n",
            "Kolkata      28\n",
            "Chennai      35\n",
            "Name: Temperature (°C), dtype: int64 \n",
            "\n",
            "Delhi        200\n",
            "Mumbai       100\n",
            "Bangalore     50\n",
            "Kolkata      120\n",
            "Chennai      150\n",
            "Name: Air Quality Index (AQI), dtype: int64 \n",
            "\n",
            "Delhi          5\n",
            "Mumbai       200\n",
            "Bangalore    150\n",
            "Kolkata      100\n",
            "Chennai      180\n",
            "Name: Rainfall (mm), dtype: int64 \n",
            "\n"
          ]
        }
      ],
      "source": [
        "import pandas as pd\n",
        "\n",
        "data = {\n",
        "    'City': ['Delhi', 'Mumbai', 'Bangalore', 'Kolkata', 'Chennai'],\n",
        "    'Temperature': [25, 30, 22, 28, 35],\n",
        "    'AQI': [200, 100, 50, 120, 150],\n",
        "    'Rainfall': [5, 200, 150, 100, 180]\n",
        "}\n",
        "\n",
        "cities = pd.Series(data['City'], name=\"City\")\n",
        "temperatures = pd.Series(data['Temperature'], index=data['City'], name=\"Temperature (°C)\")\n",
        "aqi = pd.Series(data['AQI'], index=data['City'], name=\"Air Quality Index (AQI)\")\n",
        "rainfall = pd.Series(data['Rainfall'], index=data['City'], name=\"Rainfall (mm)\")\n",
        "\n",
        "print(cities, \"\\n\")\n",
        "print(temperatures, \"\\n\")\n",
        "print(aqi, \"\\n\")\n",
        "print(rainfall, \"\\n\")\n"
      ]
    },
    {
      "cell_type": "markdown",
      "source": [
        "# Practice Problems - EASY\n",
        "\n",
        "## Basic Exploration\n",
        "1. Print the cities Series.\n",
        "2. Retrieve the first two cities using .head().\n",
        "3. Get the index and values of the temperatures Series.\n",
        "\n",
        "\n",
        "\n",
        "## Indexing\n",
        "1. Retrieve the temperature of \"Mumbai\" from the temperatures Series.\n",
        "2. Check if \"Delhi\" is in the index of the aqi Series.\n",
        "\n",
        "\n",
        "## Descriptive Statistics\n",
        "1. Find the average temperature using .mean().\n",
        "2. Check the maximum value in the rainfall Series.\n",
        "\n",
        "\n",
        "## Boolean Masking\n",
        "- Filter cities with AQI above 100."
      ],
      "metadata": {
        "id": "rh4Ebn6qWNED"
      }
    },
    {
      "cell_type": "code",
      "source": [
        "# Basic Exploration\n",
        "\n",
        "\n",
        "# Print the cities Series.\n",
        "print(cities, \"\\n\")\n",
        "\n",
        "# Retrieve the first two cities using .head().\n",
        "print(cities.head(2), \"\\n\")\n",
        "\n",
        "# Get the index and values of the temperatures Series.\n",
        "print(temperatures.index)\n",
        "print(temperatures.values)"
      ],
      "metadata": {
        "colab": {
          "base_uri": "https://localhost:8080/"
        },
        "id": "XV1rVQC3XK5a",
        "outputId": "ac27e991-fd19-44f6-e758-52d0b1e50ff7"
      },
      "execution_count": 2,
      "outputs": [
        {
          "output_type": "stream",
          "name": "stdout",
          "text": [
            "0        Delhi\n",
            "1       Mumbai\n",
            "2    Bangalore\n",
            "3      Kolkata\n",
            "4      Chennai\n",
            "Name: City, dtype: object \n",
            "\n",
            "0     Delhi\n",
            "1    Mumbai\n",
            "Name: City, dtype: object \n",
            "\n",
            "Index(['Delhi', 'Mumbai', 'Bangalore', 'Kolkata', 'Chennai'], dtype='object')\n",
            "[25 30 22 28 35]\n"
          ]
        }
      ]
    },
    {
      "cell_type": "code",
      "source": [
        "# Indexing\n",
        "\n",
        "\n",
        "# Retrieve the temperature of \"Mumbai\" from the temperatures Series.\n",
        "mumbai = cities[cities == \"Mumbai\"]\n",
        "mumbai = mumbai.index[0] # get the index of the data\n",
        "print(temperatures.iloc[mumbai], \"\\n\")\n",
        "\n",
        "# Check if \"Delhi\" is in the index of the aqi Series.\n",
        "isDelhi = aqi.index\n",
        "isDelhiOne = \"Delhi\" in isDelhi\n",
        "print(isDelhiOne, \"\\n\")\n",
        "isDelhiTwo = \"dlehi\" in isDelhi\n",
        "print(isDelhiTwo)\n"
      ],
      "metadata": {
        "colab": {
          "base_uri": "https://localhost:8080/"
        },
        "id": "3PN1sEJiXyiE",
        "outputId": "c83087b3-67a6-45ae-817e-b45905c7f1cb"
      },
      "execution_count": 3,
      "outputs": [
        {
          "output_type": "stream",
          "name": "stdout",
          "text": [
            "30 \n",
            "\n",
            "True \n",
            "\n",
            "False\n"
          ]
        }
      ]
    },
    {
      "cell_type": "code",
      "source": [
        "# Descriptive Statistics\n",
        "\n",
        "\n",
        "# Find the average temperature using .mean().\n",
        "mean_temperature = temperatures.mean()\n",
        "print(mean_temperature, \"\\n\")\n",
        "\n",
        "# Check the maximum value in the rainfall Series.\n",
        "rainfall_val = rainfall.values\n",
        "max_rainfall = rainfall_val.max()\n",
        "print(max_rainfall)"
      ],
      "metadata": {
        "colab": {
          "base_uri": "https://localhost:8080/"
        },
        "id": "urWlxv4rbyrk",
        "outputId": "b8b118a9-1056-46c7-e588-cfce7937c86a"
      },
      "execution_count": 4,
      "outputs": [
        {
          "output_type": "stream",
          "name": "stdout",
          "text": [
            "28.0 \n",
            "\n",
            "200\n"
          ]
        }
      ]
    },
    {
      "cell_type": "code",
      "source": [
        "# Boolean Masking\n",
        "\n",
        "\n",
        "# Filter cities with AQI above 100.\n",
        "high_aqi = aqi[aqi > 100]\n",
        "print(high_aqi)"
      ],
      "metadata": {
        "colab": {
          "base_uri": "https://localhost:8080/"
        },
        "id": "jESr7D0XcdPQ",
        "outputId": "161517f1-a1a3-4d0a-9d01-0ce2cb450698"
      },
      "execution_count": 5,
      "outputs": [
        {
          "output_type": "stream",
          "name": "stdout",
          "text": [
            "Delhi      200\n",
            "Kolkata    120\n",
            "Chennai    150\n",
            "Name: Air Quality Index (AQI), dtype: int64\n"
          ]
        }
      ]
    },
    {
      "cell_type": "markdown",
      "source": [
        "# Practice Problems - MEDIUM\n",
        "\n",
        "\n",
        "## Transformation\n",
        "- Convert the temperatures Series from Celsius to Fahrenheit using formula: Fahrenheit = (Celsius * 9/5) + 32\n",
        "\n",
        "## Sorting\n",
        "1. Sort the aqi Series by values in descending order.\n",
        "2. Sort the rainfall Series by its index.\n",
        "\n",
        "## Missing Data\n",
        "1. Add a missing value (None) for \"Chennai\" in the temperatures Series.\n",
        "2. Fill the missing value with the average temperature.\n",
        "\n",
        "## Mapping\n",
        "\n",
        "- Create a new Series where each city's AQI is labeled as \"Good\", \"Moderate\", or \"Poor\":\n",
        "  - Good: AQI <= 50\n",
        "  - Moderate: 51 <= AQI <= 150\n",
        "  - Poor: AQI > 150"
      ],
      "metadata": {
        "id": "SYEHXPhzc_Az"
      }
    },
    {
      "cell_type": "code",
      "source": [
        "# Transformation\n",
        "\n",
        "\n",
        "# Convert the temperatures Series from Celsius to Fahrenheit\n",
        "\n",
        "def celToFah(celsius):\n",
        "  return (celsius * 1.8) + 32\n",
        "\n",
        "print(temperatures, \"\\n\")\n",
        "temperatures = temperatures.apply(celToFah)\n",
        "temperatures.name = \"Temperature (°F)\"\n",
        "print(temperatures)\n"
      ],
      "metadata": {
        "colab": {
          "base_uri": "https://localhost:8080/"
        },
        "id": "nocu32hqdphk",
        "outputId": "2ceb79ff-7dc2-4b66-e5b3-d433e7cb5e62"
      },
      "execution_count": 6,
      "outputs": [
        {
          "output_type": "stream",
          "name": "stdout",
          "text": [
            "Delhi        25\n",
            "Mumbai       30\n",
            "Bangalore    22\n",
            "Kolkata      28\n",
            "Chennai      35\n",
            "Name: Temperature (°C), dtype: int64 \n",
            "\n",
            "Delhi        77.0\n",
            "Mumbai       86.0\n",
            "Bangalore    71.6\n",
            "Kolkata      82.4\n",
            "Chennai      95.0\n",
            "Name: Temperature (°F), dtype: float64\n"
          ]
        }
      ]
    },
    {
      "cell_type": "code",
      "source": [
        "# Sorting\n",
        "\n",
        "\n",
        "# Sort the aqi Series by values in descending order.\n",
        "print(aqi, \"\\n\")\n",
        "sorted_aqi = aqi.sort_values(ascending=False)\n",
        "print(sorted_aqi, \"\\n \\n\")\n",
        "\n",
        "# Sort the rainfall Series by its index.\n",
        "print(rainfall, \"\\n\")\n",
        "sorted_rainfall = rainfall.sort_index(ascending=False)\n",
        "print(sorted_rainfall)"
      ],
      "metadata": {
        "colab": {
          "base_uri": "https://localhost:8080/"
        },
        "id": "U9yKslM6fllU",
        "outputId": "93133ac6-4129-4e46-9955-e9e4c9d43719"
      },
      "execution_count": 7,
      "outputs": [
        {
          "output_type": "stream",
          "name": "stdout",
          "text": [
            "Delhi        200\n",
            "Mumbai       100\n",
            "Bangalore     50\n",
            "Kolkata      120\n",
            "Chennai      150\n",
            "Name: Air Quality Index (AQI), dtype: int64 \n",
            "\n",
            "Delhi        200\n",
            "Chennai      150\n",
            "Kolkata      120\n",
            "Mumbai       100\n",
            "Bangalore     50\n",
            "Name: Air Quality Index (AQI), dtype: int64 \n",
            " \n",
            "\n",
            "Delhi          5\n",
            "Mumbai       200\n",
            "Bangalore    150\n",
            "Kolkata      100\n",
            "Chennai      180\n",
            "Name: Rainfall (mm), dtype: int64 \n",
            "\n",
            "Mumbai       200\n",
            "Kolkata      100\n",
            "Delhi          5\n",
            "Chennai      180\n",
            "Bangalore    150\n",
            "Name: Rainfall (mm), dtype: int64\n"
          ]
        }
      ]
    },
    {
      "cell_type": "code",
      "source": [
        "# Missing Data\n",
        "\n",
        "\n",
        "# Add a missing value (None) for \"Chennai\" in the temperatures Series.\n",
        "temperatures[\"Chennai\"] = None\n",
        "print(temperatures, \"\\n\")\n",
        "\n",
        "# Fill the missing value with the average temperature.\n",
        "average_temperature = temperatures.mean()\n",
        "temperatures = temperatures.fillna(average_temperature)\n",
        "print(temperatures)\n"
      ],
      "metadata": {
        "colab": {
          "base_uri": "https://localhost:8080/"
        },
        "id": "iuMiAGoG2m62",
        "outputId": "5a80b506-39d2-4740-b373-a4ceb22ba265"
      },
      "execution_count": 8,
      "outputs": [
        {
          "output_type": "stream",
          "name": "stdout",
          "text": [
            "Delhi        77.0\n",
            "Mumbai       86.0\n",
            "Bangalore    71.6\n",
            "Kolkata      82.4\n",
            "Chennai       NaN\n",
            "Name: Temperature (°F), dtype: float64 \n",
            "\n",
            "Delhi        77.00\n",
            "Mumbai       86.00\n",
            "Bangalore    71.60\n",
            "Kolkata      82.40\n",
            "Chennai      79.25\n",
            "Name: Temperature (°F), dtype: float64\n"
          ]
        }
      ]
    },
    {
      "cell_type": "code",
      "source": [
        "# Mapping\n",
        "\n",
        "\n",
        "# Create a new Series where each city's AQI is labeled as \"Good\", \"Moderate\", or \"Poor\":\n",
        "# Good: AQI <= 50\n",
        "# Moderate: 51 <= AQI <= 150\n",
        "# Poor: AQI > 150\n",
        "\n",
        "\n",
        "def getPlace(index):\n",
        "  return cities.iloc[index]\n",
        "\n",
        "new_dict = {}\n",
        "aqi_list = aqi.values\n",
        "\n",
        "for new_aqi in range(len(aqi_list)):\n",
        "  place = getPlace(new_aqi)\n",
        "  aqi_value = aqi_list[new_aqi]\n",
        "\n",
        "  if(aqi_value <= 50):\n",
        "    aqi_value = \"Good\"\n",
        "  elif(51 <= aqi_value <= 150):\n",
        "    aqi_value = \"Moderate\"\n",
        "  else:\n",
        "    aqi_value = \"Poor\"\n",
        "\n",
        "  new_dict[place] = aqi_value\n",
        "\n",
        "new_series = pd.Series(new_dict, name=\"AQI indexed\")\n",
        "print(new_series)\n",
        "\n",
        "print(type(aqi))\n"
      ],
      "metadata": {
        "colab": {
          "base_uri": "https://localhost:8080/"
        },
        "id": "zExGF4oa2zD_",
        "outputId": "1487d744-472a-42e8-853a-90280f378090"
      },
      "execution_count": 9,
      "outputs": [
        {
          "output_type": "stream",
          "name": "stdout",
          "text": [
            "Delhi            Poor\n",
            "Mumbai       Moderate\n",
            "Bangalore        Good\n",
            "Kolkata      Moderate\n",
            "Chennai      Moderate\n",
            "Name: AQI indexed, dtype: object\n",
            "<class 'pandas.core.series.Series'>\n"
          ]
        }
      ]
    },
    {
      "cell_type": "markdown",
      "source": [
        "# Practice Problems - HARD\n",
        "\n",
        "\n",
        "## Custom Function\n",
        "- Write a custom function to classify rainfall into categories:\n",
        "  - Low: Rainfall <= 50\n",
        "  - Moderate: 51 <= Rainfall <= 150\n",
        "  - High: Rainfall > 150\n",
        "    Apply this function to the rainfall Series.\n",
        "\n",
        "## Aggregation\n",
        "- Create a Series combining temperature, aqi, and rainfall for each city using a tuple for values (e.g., (25, 200, 5)).\n",
        "\n",
        "## Time-Series Analysis (Synthetic Data)\n",
        "- Extend the temperatures Series with a 7-day synthetic time-series data for \"Delhi\".\n",
        "- Compute the rolling average temperature over a 3-day window.\n",
        "\n",
        "## Chaining Operations\n",
        "- Chain the following operations on the aqi Series:\n",
        "  - Filter cities with AQI > 100.\n",
        "  - Sort the filtered values.\n",
        "  - Replace values above 150 with the string \"Critical\".\n"
      ],
      "metadata": {
        "id": "eOOnag4h52lm"
      }
    },
    {
      "cell_type": "code",
      "source": [
        "# Custom Function\n",
        "\n",
        "\n",
        "# Write a custom function to classify rainfall into categories:\n",
        "# Low: Rainfall <= 50\n",
        "# Moderate: 51 <= Rainfall <= 150\n",
        "# High: Rainfall > 150 Apply this function to the rainfall Series.\n",
        "\n",
        "def customFun(rainfall):\n",
        "  if(rainfall <= 50):\n",
        "    return \"Low\"\n",
        "  elif(51 <= rainfall <= 150):\n",
        "    return \"Moderate\"\n",
        "  else:\n",
        "    return \"High\"\n",
        "\n",
        "rainfall = rainfall.apply(customFun)\n",
        "rainfall.name = \"Rain level\"\n",
        "print(rainfall)"
      ],
      "metadata": {
        "colab": {
          "base_uri": "https://localhost:8080/"
        },
        "id": "AJNmUGkm6gC4",
        "outputId": "6a9ff598-c45a-4ecf-b443-63915828f26e"
      },
      "execution_count": 10,
      "outputs": [
        {
          "output_type": "stream",
          "name": "stdout",
          "text": [
            "Delhi             Low\n",
            "Mumbai           High\n",
            "Bangalore    Moderate\n",
            "Kolkata      Moderate\n",
            "Chennai          High\n",
            "Name: Rain level, dtype: object\n"
          ]
        }
      ]
    },
    {
      "cell_type": "code",
      "source": [
        "# Aggregation\n",
        "\n",
        "\n",
        "# Create a Series combining temperature, aqi, and rainfall for each city using a tuple for values (e.g., (25, 200, 5)).\n",
        "\n",
        "comb_dict = {}\n",
        "places = cities.values\n",
        "\n",
        "for city in range(len(places)):\n",
        "  place_aqi = aqi.iloc[city]\n",
        "  place_temperature = temperatures.iloc[city]\n",
        "  place_rainfall = rainfall.iloc[city]\n",
        "  place = places[city]\n",
        "  new_tuple = (place_temperature, place_aqi, place_rainfall)\n",
        "\n",
        "  comb_dict[place] = new_tuple\n",
        "\n",
        "\n",
        "combination_series = pd.Series(comb_dict, name=\"Combination of AQI, temperature and rainfall\")\n",
        "\n",
        "print(combination_series)"
      ],
      "metadata": {
        "colab": {
          "base_uri": "https://localhost:8080/"
        },
        "id": "b82CnftD-giS",
        "outputId": "4e50d7e0-e5cc-43b4-b1d3-b3866fef361f"
      },
      "execution_count": 11,
      "outputs": [
        {
          "output_type": "stream",
          "name": "stdout",
          "text": [
            "Delhi             (77.0, 200, Low)\n",
            "Mumbai           (86.0, 100, High)\n",
            "Bangalore     (71.6, 50, Moderate)\n",
            "Kolkata      (82.4, 120, Moderate)\n",
            "Chennai         (79.25, 150, High)\n",
            "Name: Combination of AQI, temperature and rainfall, dtype: object\n"
          ]
        }
      ]
    },
    {
      "cell_type": "code",
      "source": [
        "# Time-Series Analysis (Synthetic Data)\n",
        "\n",
        "\n",
        "# Extend the temperatures Series with a 7-day synthetic time-series data for \"Delhi\".\n",
        "# Compute the rolling average temperature over a 3-day window."
      ],
      "metadata": {
        "id": "K5JVMfNvmMcR"
      },
      "execution_count": 12,
      "outputs": []
    },
    {
      "cell_type": "code",
      "source": [
        "# Chaining Operations\n",
        "\n",
        "\n",
        "# Chain the following operations on the aqi Series:\n",
        "# Filter cities with AQI > 100.\n",
        "# Sort the filtered values.\n",
        "# Replace values above 150 with the string \"Critical\".\n",
        "\n",
        "chain_dict = {}\n",
        "places = cities.values\n",
        "\n",
        "for city in range(len(places)):\n",
        "  if(aqi.iloc[city] > 100):\n",
        "    place_aqi = aqi.iloc[city]\n",
        "    place = places[city]\n",
        "\n",
        "    chain_dict[place] = place_aqi\n",
        "\n",
        "\n",
        "chained_series = pd.Series(chain_dict, name=\"Filtered values\")\n",
        "chained_series = chained_series.sort_values(ascending=False)\n",
        "\n",
        "chained_series = chained_series.astype('object') # to avoid type error of assigning str to an int dtype\n",
        "chained_value = chained_series.values\n",
        "\n",
        "for value in range(len(chained_value)):\n",
        "  if(chained_value[value] > 150):\n",
        "    chained_series.iloc[value] = \"Critical\"\n",
        "\n",
        "print(chained_series)\n",
        "\n"
      ],
      "metadata": {
        "colab": {
          "base_uri": "https://localhost:8080/"
        },
        "id": "UwaqdBMOixsh",
        "outputId": "e2bec7c9-365e-4332-fdf6-3c3eae1a3e93"
      },
      "execution_count": 13,
      "outputs": [
        {
          "output_type": "stream",
          "name": "stdout",
          "text": [
            "Delhi      Critical\n",
            "Chennai         150\n",
            "Kolkata         120\n",
            "Name: Filtered values, dtype: object\n"
          ]
        }
      ]
    }
  ]
}