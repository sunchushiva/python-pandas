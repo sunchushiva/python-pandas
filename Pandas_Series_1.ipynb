{
  "nbformat": 4,
  "nbformat_minor": 0,
  "metadata": {
    "colab": {
      "provenance": [],
      "authorship_tag": "ABX9TyN87nag1qpHV4kYXBEGVwTE",
      "include_colab_link": true
    },
    "kernelspec": {
      "name": "python3",
      "display_name": "Python 3"
    },
    "language_info": {
      "name": "python"
    }
  },
  "cells": [
    {
      "cell_type": "markdown",
      "metadata": {
        "id": "view-in-github",
        "colab_type": "text"
      },
      "source": [
        "<a href=\"https://colab.research.google.com/github/sunchushiva/python-pandas/blob/master/Pandas_Series_1.ipynb\" target=\"_parent\"><img src=\"https://colab.research.google.com/assets/colab-badge.svg\" alt=\"Open In Colab\"/></a>"
      ]
    },
    {
      "cell_type": "code",
      "source": [
        "import pandas as pd\n",
        "# from pandas import DataFrame"
      ],
      "metadata": {
        "id": "Yz025DRydXOe"
      },
      "execution_count": 1,
      "outputs": []
    },
    {
      "cell_type": "code",
      "source": [
        "# Series\n",
        "\n",
        "# Series: A Series is a one-dimensional labeled array capable of holding any data type (e.g., integers, floats, strings).\n",
        "# It can be thought of as a single column of data with an index.\n",
        "# Size-immutable; once created, the size cannot be changed.\n",
        "# Primarily used for operations on single variables, such as element-wise operations and basic statistics.\n",
        "# Has a single index that labels each element."
      ],
      "metadata": {
        "id": "eO3l7RKchqRu"
      },
      "execution_count": 2,
      "outputs": []
    },
    {
      "cell_type": "code",
      "source": [
        "seriesOne = pd.Series([1, 2, 3, 4, 5], index=[\"a\", \"b\", \"c\", \"d\", \"e\"])\n",
        "\n",
        "seriesOne"
      ],
      "metadata": {
        "colab": {
          "base_uri": "https://localhost:8080/",
          "height": 241
        },
        "collapsed": true,
        "id": "UfMxdQZbiFJI",
        "outputId": "619cd1af-7e90-47e9-f8af-2c2ef5ee505c"
      },
      "execution_count": 3,
      "outputs": [
        {
          "output_type": "execute_result",
          "data": {
            "text/plain": [
              "a    1\n",
              "b    2\n",
              "c    3\n",
              "d    4\n",
              "e    5\n",
              "dtype: int64"
            ],
            "text/html": [
              "<div>\n",
              "<style scoped>\n",
              "    .dataframe tbody tr th:only-of-type {\n",
              "        vertical-align: middle;\n",
              "    }\n",
              "\n",
              "    .dataframe tbody tr th {\n",
              "        vertical-align: top;\n",
              "    }\n",
              "\n",
              "    .dataframe thead th {\n",
              "        text-align: right;\n",
              "    }\n",
              "</style>\n",
              "<table border=\"1\" class=\"dataframe\">\n",
              "  <thead>\n",
              "    <tr style=\"text-align: right;\">\n",
              "      <th></th>\n",
              "      <th>0</th>\n",
              "    </tr>\n",
              "  </thead>\n",
              "  <tbody>\n",
              "    <tr>\n",
              "      <th>a</th>\n",
              "      <td>1</td>\n",
              "    </tr>\n",
              "    <tr>\n",
              "      <th>b</th>\n",
              "      <td>2</td>\n",
              "    </tr>\n",
              "    <tr>\n",
              "      <th>c</th>\n",
              "      <td>3</td>\n",
              "    </tr>\n",
              "    <tr>\n",
              "      <th>d</th>\n",
              "      <td>4</td>\n",
              "    </tr>\n",
              "    <tr>\n",
              "      <th>e</th>\n",
              "      <td>5</td>\n",
              "    </tr>\n",
              "  </tbody>\n",
              "</table>\n",
              "</div><br><label><b>dtype:</b> int64</label>"
            ]
          },
          "metadata": {},
          "execution_count": 3
        }
      ]
    },
    {
      "cell_type": "code",
      "source": [
        "# print(seriesOne.e) -> No output\n",
        "print(seriesOne[\"e\"])\n",
        "\n",
        "print(seriesOne[[\"a\", \"c\"]])\n",
        "# Outputs: Values at index a and c only i.e. 1 3"
      ],
      "metadata": {
        "colab": {
          "base_uri": "https://localhost:8080/"
        },
        "id": "FyVhcxkViaOm",
        "outputId": "2b517a3a-9693-4596-c687-3bc9ba66f838"
      },
      "execution_count": 4,
      "outputs": [
        {
          "output_type": "stream",
          "name": "stdout",
          "text": [
            "5\n",
            "a    1\n",
            "c    3\n",
            "dtype: int64\n"
          ]
        }
      ]
    },
    {
      "cell_type": "code",
      "source": [
        "seriesTwo = pd.Series([1, 2, \"s\", True, 90.90])\n",
        "\n",
        "seriesTwo[2] = \"yes\"\n",
        "\n",
        "print(seriesTwo)"
      ],
      "metadata": {
        "colab": {
          "base_uri": "https://localhost:8080/"
        },
        "id": "AXBeqDARjld7",
        "outputId": "63c733bc-2feb-4aa4-a10f-6df5ca17f0d1"
      },
      "execution_count": 5,
      "outputs": [
        {
          "output_type": "stream",
          "name": "stdout",
          "text": [
            "0       1\n",
            "1       2\n",
            "2     yes\n",
            "3    True\n",
            "4    90.9\n",
            "dtype: object\n"
          ]
        }
      ]
    },
    {
      "cell_type": "code",
      "source": [
        "seriesThree = pd.Series([1, 2, 5, 9], index=list(\"abcd\"))\n",
        "print(seriesThree)\n",
        "# a    1\n",
        "# b    2\n",
        "# c    5\n",
        "# d    9\n",
        "# dtype: int64\n",
        "\n",
        "seriesFour = pd.Series(list(\"abcde\"), index=[1, 2, 3, 4, 5])\n",
        "print(seriesFour)\n",
        "# 1    a\n",
        "# 2    b\n",
        "# 3    c\n",
        "# 4    d\n",
        "# 5    e\n",
        "# dtype: object\n",
        "\n",
        "seriesFive = pd.Series({\"name\": \"john\", \"last_name\": \"doe\", \"email\": \"johdoe@gmail.in\"})\n",
        "print(seriesFive)\n",
        "# name    john\n",
        "# last_name    doe\n",
        "# email    johdoe@gmail.in\n",
        "# dtype: object\n",
        "\n",
        "seriesSix = pd.Series(5, index=list(\"1234\"))\n",
        "print(seriesSix)\n",
        "# 1    5\n",
        "# 2    5\n",
        "# 3    5\n",
        "# 4    5\n",
        "# dtype: int64"
      ],
      "metadata": {
        "colab": {
          "base_uri": "https://localhost:8080/"
        },
        "id": "Y1eJ2GcCknwq",
        "outputId": "91fc228e-60af-4615-98b5-98df9ec3956c"
      },
      "execution_count": 6,
      "outputs": [
        {
          "output_type": "stream",
          "name": "stdout",
          "text": [
            "a    1\n",
            "b    2\n",
            "c    5\n",
            "d    9\n",
            "dtype: int64\n",
            "1    a\n",
            "2    b\n",
            "3    c\n",
            "4    d\n",
            "5    e\n",
            "dtype: object\n",
            "name                    john\n",
            "last_name                doe\n",
            "email        johdoe@gmail.in\n",
            "dtype: object\n",
            "1    5\n",
            "2    5\n",
            "3    5\n",
            "4    5\n",
            "dtype: int64\n"
          ]
        }
      ]
    },
    {
      "cell_type": "code",
      "source": [
        "# .iloc[position] -> to access data using position value of the series\n",
        "\n",
        "print(seriesThree.iloc[0])\n",
        "# 1\n",
        "\n",
        "print(seriesFour.iloc[1])\n",
        "# b\n",
        "\n",
        "print(seriesFive.iloc[2])\n",
        "# johdoe@gmail.in\n"
      ],
      "metadata": {
        "colab": {
          "base_uri": "https://localhost:8080/"
        },
        "id": "72hNzlJRmdXA",
        "outputId": "740ab69b-32c6-403f-f72e-5e81114bbbc0"
      },
      "execution_count": 7,
      "outputs": [
        {
          "output_type": "stream",
          "name": "stdout",
          "text": [
            "1\n",
            "b\n",
            "johdoe@gmail.in\n"
          ]
        }
      ]
    },
    {
      "cell_type": "code",
      "source": [
        "# .loc[index] -> to access data using index value of the series\n",
        "\n",
        "print(seriesThree.loc[\"a\"])\n",
        "# 1\n",
        "\n",
        "print(seriesFour.loc[2]) # 2 is an int because the index value provided for seriesFour is an int list\n",
        "# b\n",
        "\n",
        "print(seriesFive.loc[\"email\"])\n",
        "# johdoe@gmail.in"
      ],
      "metadata": {
        "colab": {
          "base_uri": "https://localhost:8080/"
        },
        "id": "-gXsCNb1oVyE",
        "outputId": "0d90016e-4a94-4200-876c-04f04cd1f572"
      },
      "execution_count": 8,
      "outputs": [
        {
          "output_type": "stream",
          "name": "stdout",
          "text": [
            "1\n",
            "b\n",
            "johdoe@gmail.in\n"
          ]
        }
      ]
    },
    {
      "cell_type": "code",
      "source": [
        "# .index and .values -> Retrieving Indexes and Values array\n",
        "\n",
        "print(seriesThree.index)\n",
        "# Index(['a', 'b', 'c', 'd'], dtype='object')\n",
        "\n",
        "print(seriesFour.values)\n",
        "# ['a' 'b' 'c' 'd' 'e']\n",
        "\n",
        "print(seriesFive.index)\n",
        "# Index(['name', 'last_name', 'email'], dtype='object')\n",
        "\n",
        "print(seriesSix.values)\n",
        "# [5 5 5 5]\n"
      ],
      "metadata": {
        "colab": {
          "base_uri": "https://localhost:8080/"
        },
        "id": "pA6riqVHpi2e",
        "outputId": "08bf98a6-aa6a-4aea-fc53-b4086b650d89"
      },
      "execution_count": 9,
      "outputs": [
        {
          "output_type": "stream",
          "name": "stdout",
          "text": [
            "Index(['a', 'b', 'c', 'd'], dtype='object')\n",
            "['a' 'b' 'c' 'd' 'e']\n",
            "Index(['name', 'last_name', 'email'], dtype='object')\n",
            "[5 5 5 5]\n"
          ]
        }
      ]
    },
    {
      "cell_type": "code",
      "source": [
        "# Other attributes of Series dict: -\n",
        "# dtype: Returns the data type of the elements in the Series.\n",
        "# size: Returns the number of elements in the Series.\n",
        "# shape: Returns the dimensions of the Series (e.g., (n,)).\n",
        "# empty: Checks if the Series is empty.\n",
        "# hasnans: Checks if there are any NaN values in the Series.\n",
        "\n",
        "print(seriesThree.dtype) #int64\n",
        "print(seriesFour.dtype) #object(string)\n",
        "print(seriesSix.dtype) #int64\n",
        "\n",
        "print(seriesTwo.size) # 5\n",
        "print(seriesFive.size) # 3\n",
        "\n",
        "print(seriesOne.shape) # (5,)\n",
        "print(seriesTwo.shape) # (5,)\n",
        "print(seriesSix.shape) # (4,)\n"
      ],
      "metadata": {
        "colab": {
          "base_uri": "https://localhost:8080/"
        },
        "id": "R6Nu019-tE_a",
        "outputId": "92d2feff-409a-47ee-8d6f-ba62db427798"
      },
      "execution_count": 10,
      "outputs": [
        {
          "output_type": "stream",
          "name": "stdout",
          "text": [
            "int64\n",
            "object\n",
            "int64\n",
            "5\n",
            "3\n",
            "(5,)\n",
            "(5,)\n",
            "(4,)\n",
            "1    \n",
            "2    \n",
            "dtype: object\n",
            "object\n",
            "2\n",
            "(2,)\n",
            "False\n",
            "------\n",
            "object\n",
            "0\n",
            "True\n",
            "(0,)\n",
            "False\n"
          ]
        }
      ]
    },
    {
      "cell_type": "code",
      "source": [
        "seriesSeven = pd.Series(data=\"\", index=[1, 2])\n",
        "seriesEight = pd.Series()\n",
        "\n",
        "\n",
        "print(seriesSeven)\n",
        "# 1\n",
        "# 2\n",
        "\n",
        "print(seriesSeven.dtype) # object\n",
        "print(seriesSeven.size) # 2\n",
        "print(seriesSeven.shape) # (2,)\n",
        "print(seriesSeven.empty) # False\n",
        "\n",
        "print(\"----\")\n",
        "\n",
        "print(seriesEight.dtype) # object\n",
        "print(seriesEight.size) # 0\n",
        "print(seriesEight.empty) # True\n",
        "print(seriesEight.shape) # (0, )\n",
        "print(seriesEight.hasnans) # False\n"
      ],
      "metadata": {
        "id": "ew105dqewzrf"
      },
      "execution_count": null,
      "outputs": []
    }
  ]
}